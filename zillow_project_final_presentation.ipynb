{
 "cells": [
  {
   "cell_type": "code",
   "execution_count": 1,
   "id": "838e2d26",
   "metadata": {},
   "outputs": [],
   "source": [
    "import pandas as pd\n",
    "import numpy as np\n",
    "import matplotlib.pyplot as plt\n",
    "import seaborn as sns\n",
    "\n",
    "import warnings\n",
    "warnings.filterwarnings(\"ignore\")\n",
    "\n",
    "from math import sqrt\n",
    "from scipy import stats\n",
    "from statsmodels.formula.api import ols\n",
    "from sklearn.metrics import mean_squared_error, explained_variance_score\n",
    "from sklearn.linear_model import LinearRegression, TweedieRegressor, LassoLars\n",
    "from sklearn.feature_selection import RFE, SelectKBest, f_regression\n",
    "from sklearn.preprocessing import StandardScaler\n",
    "from sklearn.model_selection import train_test_split\n",
    "from sklearn.neighbors import KNeighborsClassifier\n",
    "from sklearn.preprocessing import MinMaxScaler, StandardScaler, RobustScaler, QuantileTransformer\n",
    "\n",
    "import env\n",
    "import acquire_zillow\n",
    "import prepare\n"
   ]
  },
  {
   "cell_type": "markdown",
   "id": "1bda0826",
   "metadata": {},
   "source": [
    "# Zillow Project\n",
    "### Project Goals\n",
    "- What features drive the housing prices \n",
    "- Create a model that beats the current baseline"
   ]
  },
  {
   "cell_type": "markdown",
   "id": "4a2d538a",
   "metadata": {},
   "source": [
    "\n",
    "\n",
    "### Project Description\n",
    "- Construct an ML Regression model that predict propery tax assessed values ('taxvaluedollarcnt') of Single Family Properties using attributes of the properties.\n",
    "\n",
    "- Find the key drivers of property value for single family properties. Some questions that come to mind are: Why do some properties have a much higher value than others when they are located so close to each other? Why are some properties valued so differently from others when they have nearly the same physical attributes but only differ in location? Is having 1 bathroom worse than having 2 bedrooms?"
   ]
  },
  {
   "cell_type": "markdown",
   "id": "6323a38b",
   "metadata": {},
   "source": [
    "# Data Acquisition "
   ]
  },
  {
   "cell_type": "markdown",
   "id": "9e664f3b",
   "metadata": {},
   "source": [
    "- #### Acuired the Zillow data from the Sql database \n",
    "- #### Saved the data in a csv file\n",
    "- #### Stored the data in a in a function as a dataframe \n",
    "- #### The original data has 52440 rows and 6 columns\n",
    "\n",
    "    - 'bathroomcnt'\n",
    "    - 'bedroomcnt'\n",
    "    - 'calculatedfinishedsquarefeet'\n",
    "    - 'taxvaluedollarcnt'\n",
    "    - 'fibs'\n",
    "    - 'yearbuilt'\n",
    "- #### The cleaned data has 48372 rows and 6 columns "
   ]
  },
  {
   "cell_type": "markdown",
   "id": "782414b3",
   "metadata": {},
   "source": [
    "# Preparation"
   ]
  },
  {
   "cell_type": "markdown",
   "id": "2e4579cc",
   "metadata": {},
   "source": [
    "### Steps taken for a clean dataset\n",
    "1. #### Adressed missing values by dropping them since they were less than 10% of the initial data \n",
    "\n",
    "2. #### In order to simulate an ordinary homebuyer I took care of the outliers by:\n",
    "     - removing houses over 6000 sqfeet, below 70feet\n",
    "     - removing houses costing over 1.2 million in tax dollar amount \n",
    "     - removing rows with houses over 6 bedrooms and 6 bathrooms \n",
    "     \n",
    "3. #### Converted fips column to categorical and changed the names to county names for readability purposes \n",
    "     - Ventura for  \"6111\"\n",
    "     - Orange for\"6059\n",
    "     - Los_Angeles for \"6037\"\n",
    "\n",
    "4. #### Changed the column names to make more sense in English:\n",
    "     - bathrooms for'bathroomcnt'\n",
    "     - bedrooms for 'bedroomcnt'\n",
    "     - squarefeet for 'calculatedfinishedsquarefeet'\n",
    "     - total_taxes_assessed for 'taxvaluedollarcnt'\n",
    "     - county for fibs\n",
    "     \n",
    "5. #### Dropped the tax_amount column to avoid data leakage during modeling\n",
    "\n",
    "6. #### Created a function that splits the data into train, validate and test dataframes\n",
    "\n",
    "7. #### Created a function that that scaled the data for modeling purposes\n"
   ]
  },
  {
   "cell_type": "code",
   "execution_count": 2,
   "id": "2dbd0f1c",
   "metadata": {
    "scrolled": true
   },
   "outputs": [],
   "source": [
    "# acquiring and preparing data. This function gets data from sql into a CSV file that is clean and prepared for exploration\n",
    "df = prepare.wrangle_zillow()\n"
   ]
  },
  {
   "cell_type": "code",
   "execution_count": 3,
   "id": "a5d8b901",
   "metadata": {},
   "outputs": [],
   "source": [
    "#this code is a function in the prepare file that takes in a df and returns split data(train validate and test)\n",
    "train, validate, test = prepare.split_data(df)"
   ]
  },
  {
   "cell_type": "code",
   "execution_count": 4,
   "id": "0cd17626",
   "metadata": {
    "scrolled": true
   },
   "outputs": [
    {
     "data": {
      "text/html": [
       "<div>\n",
       "<style scoped>\n",
       "    .dataframe tbody tr th:only-of-type {\n",
       "        vertical-align: middle;\n",
       "    }\n",
       "\n",
       "    .dataframe tbody tr th {\n",
       "        vertical-align: top;\n",
       "    }\n",
       "\n",
       "    .dataframe thead th {\n",
       "        text-align: right;\n",
       "    }\n",
       "</style>\n",
       "<table border=\"1\" class=\"dataframe\">\n",
       "  <thead>\n",
       "    <tr style=\"text-align: right;\">\n",
       "      <th></th>\n",
       "      <th>bedrooms</th>\n",
       "      <th>bathrooms</th>\n",
       "      <th>squarefeet</th>\n",
       "      <th>total_taxes_assessed</th>\n",
       "      <th>yearbuilt</th>\n",
       "      <th>county</th>\n",
       "    </tr>\n",
       "  </thead>\n",
       "  <tbody>\n",
       "    <tr>\n",
       "      <th>15738</th>\n",
       "      <td>3.0</td>\n",
       "      <td>2.0</td>\n",
       "      <td>1855.0</td>\n",
       "      <td>67857.0</td>\n",
       "      <td>1954.0</td>\n",
       "      <td>Orange</td>\n",
       "    </tr>\n",
       "    <tr>\n",
       "      <th>32066</th>\n",
       "      <td>3.0</td>\n",
       "      <td>1.0</td>\n",
       "      <td>1082.0</td>\n",
       "      <td>295125.0</td>\n",
       "      <td>1953.0</td>\n",
       "      <td>Los_Angeles</td>\n",
       "    </tr>\n",
       "    <tr>\n",
       "      <th>23254</th>\n",
       "      <td>4.0</td>\n",
       "      <td>3.0</td>\n",
       "      <td>3294.0</td>\n",
       "      <td>717274.0</td>\n",
       "      <td>2000.0</td>\n",
       "      <td>Orange</td>\n",
       "    </tr>\n",
       "    <tr>\n",
       "      <th>22616</th>\n",
       "      <td>3.0</td>\n",
       "      <td>1.5</td>\n",
       "      <td>1426.0</td>\n",
       "      <td>318217.0</td>\n",
       "      <td>1968.0</td>\n",
       "      <td>Orange</td>\n",
       "    </tr>\n",
       "    <tr>\n",
       "      <th>50357</th>\n",
       "      <td>4.0</td>\n",
       "      <td>3.0</td>\n",
       "      <td>2612.0</td>\n",
       "      <td>396546.0</td>\n",
       "      <td>1966.0</td>\n",
       "      <td>Los_Angeles</td>\n",
       "    </tr>\n",
       "  </tbody>\n",
       "</table>\n",
       "</div>"
      ],
      "text/plain": [
       "       bedrooms  bathrooms  squarefeet  total_taxes_assessed  yearbuilt  \\\n",
       "15738       3.0        2.0      1855.0               67857.0     1954.0   \n",
       "32066       3.0        1.0      1082.0              295125.0     1953.0   \n",
       "23254       4.0        3.0      3294.0              717274.0     2000.0   \n",
       "22616       3.0        1.5      1426.0              318217.0     1968.0   \n",
       "50357       4.0        3.0      2612.0              396546.0     1966.0   \n",
       "\n",
       "            county  \n",
       "15738       Orange  \n",
       "32066  Los_Angeles  \n",
       "23254       Orange  \n",
       "22616       Orange  \n",
       "50357  Los_Angeles  "
      ]
     },
     "execution_count": 4,
     "metadata": {},
     "output_type": "execute_result"
    }
   ],
   "source": [
    "#this code shows a sample of the dataframe\n",
    "train.head()"
   ]
  },
  {
   "cell_type": "markdown",
   "id": "898da608",
   "metadata": {},
   "source": [
    "# Exploration\n"
   ]
  },
  {
   "cell_type": "markdown",
   "id": "7f8ec85a",
   "metadata": {},
   "source": [
    "-  According to the features in the zillow dataset, there were atleast 58 features with plenty of information. However, in the end I chose to stick to 6 features. \n",
    "-  These features were bedrooms, bathrooms, squarefeet, total taxes yearbuilt and county.\n",
    "-  The following questions arose after doing alot of domain research:\n",
    "\n",
    "1. #### does the number of bedrooms and bathrooms in a house increase the cost of the home?\n",
    "2. #### is the price of the house influenced by the county/ location?\n",
    "3. #### does the age of the house matter when it comes to the price? \n",
    "4. #### does the size of the house in sqfeet influence the price?\n"
   ]
  },
  {
   "cell_type": "markdown",
   "id": "0f3f578e",
   "metadata": {},
   "source": [
    "---"
   ]
  },
  {
   "cell_type": "markdown",
   "id": "6e0b1f83",
   "metadata": {},
   "source": [
    "### 1. Does the number of bedrooms and bathrooms in a house increase the cost of the home\n"
   ]
  },
  {
   "cell_type": "code",
   "execution_count": 5,
   "id": "57e4699f",
   "metadata": {},
   "outputs": [
    {
     "name": "stderr",
     "output_type": "stream",
     "text": [
      "No handles with labels found to put in legend.\n"
     ]
    },
    {
     "data": {
      "image/png": "[encoded data removed]",
      "text/plain": [
       "<Figure size 432x288 with 1 Axes>"
      ]
     },
     "metadata": {
      "needs_background": "light"
     },
     "output_type": "display_data"
    },
    {
     "name": "stderr",
     "output_type": "stream",
     "text": [
      "No handles with labels found to put in legend.\n"
     ]
    },
    {
     "data": {
      "image/png": "[encoded data removed]",
      "text/plain": [
       "<Figure size 432x288 with 1 Axes>"
      ]
     },
     "metadata": {
      "needs_background": "light"
     },
     "output_type": "display_data"
    }
   ],
   "source": [
    "target = train.total_taxes_assessed\n",
    "train_drop = train.drop(columns=[\"total_taxes_assessed\",\"squarefeet\",\"yearbuilt\",\"county\"])\n",
    "\n",
    "# I use a for loop to boxplot my independent variables against our dependent one:\n",
    "for col in train_drop:\n",
    "    sns.boxplot(x=train_drop[col], y=target, data=train_drop)\n",
    "    plt.ylabel('total_taxes_assessed')\n",
    "    plt.xlabel(col)\n",
    "    plt.legend()\n",
    "    plt.tight_layout()\n",
    "    plt.show()\n",
    "    "
   ]
  },
  {
   "cell_type": "markdown",
   "id": "47da3d4f",
   "metadata": {},
   "source": [
    "## Takeaways\n",
    "### 1. Does the number of bedrooms and bathrooms in a house increase the cost of the home\n",
    "#### it appears that the numberof bedrooms have a positive relationship with the cost of the price of house\n",
    "#### additionally according to the charts the higher the number of bathrooms the higher the price"
   ]
  },
  {
   "cell_type": "markdown",
   "id": "6092a505",
   "metadata": {},
   "source": [
    "---"
   ]
  },
  {
   "cell_type": "markdown",
   "id": "125cd8a5",
   "metadata": {
    "scrolled": false
   },
   "source": [
    "### 2. Is the price of the house influenced by the county/ location?\n"
   ]
  },
  {
   "cell_type": "code",
   "execution_count": 6,
   "id": "7df56e0a",
   "metadata": {},
   "outputs": [
    {
     "name": "stderr",
     "output_type": "stream",
     "text": [
      "No handles with labels found to put in legend.\n"
     ]
    },
    {
     "data": {
      "image/png": "[encoded data removed]",
      "text/plain": [
       "<Figure size 432x288 with 1 Axes>"
      ]
     },
     "metadata": {
      "needs_background": "light"
     },
     "output_type": "display_data"
    },
    {
     "name": "stderr",
     "output_type": "stream",
     "text": [
      "No handles with labels found to put in legend.\n"
     ]
    },
    {
     "data": {
      "image/png": "[encoded data removed]",
      "text/plain": [
       "<Figure size 432x288 with 1 Axes>"
      ]
     },
     "metadata": {
      "needs_background": "light"
     },
     "output_type": "display_data"
    }
   ],
   "source": [
    "target = train.total_taxes_assessed\n",
    "train_drop = train.drop(columns=[\"total_taxes_assessed\",\"squarefeet\",\"yearbuilt\",\"bedrooms\",\"bathrooms\"])\n",
    "\n",
    "# I use a for loop to boxplot my independent variables against our dependent one:\n",
    "for col in train_drop:\n",
    "    sns.boxplot(x=train_drop[col], y=target, data=train_drop)\n",
    "    plt.ylabel('total_taxes_assessed')\n",
    "    plt.xlabel(col)\n",
    "    plt.legend()\n",
    "    plt.tight_layout()\n",
    "    plt.show()\n",
    "    \n",
    "\n",
    "# I use a for loop to boxplot my independent variables against our dependent one:\n",
    "for col in train_drop:\n",
    "    sns.barplot(x=train_drop[col], y=target, data=train_drop)\n",
    "    plt.ylabel('total_taxes_assessed')\n",
    "    plt.xlabel(col)\n",
    "    plt.legend()\n",
    "    plt.tight_layout()\n",
    "    plt.show()"
   ]
  },
  {
   "cell_type": "markdown",
   "id": "829bc8ce",
   "metadata": {},
   "source": [
    "## Takeaways\n",
    "\n",
    "### 2. Is the price of the house influenced by the county/ location?\n",
    "#### It appears that houses are less expensive in LA and than in Ventura and Orange county respectively\n",
    "#### However this does not seem like a strong relationship with the price, therefore this is a feature will be  explored after presenting my current findings\n",
    "\n"
   ]
  },
  {
   "cell_type": "markdown",
   "id": "e125570c",
   "metadata": {},
   "source": [
    "---"
   ]
  },
  {
   "cell_type": "markdown",
   "id": "a211cfba",
   "metadata": {},
   "source": [
    "### 3. Does the age of the house matter when it comes to the price? \n"
   ]
  },
  {
   "cell_type": "code",
   "execution_count": 7,
   "id": "124f8d57",
   "metadata": {
    "scrolled": false
   },
   "outputs": [
    {
     "data": {
      "text/plain": [
       "<seaborn.axisgrid.FacetGrid at 0x7fdbb4d7a4c0>"
      ]
     },
     "execution_count": 7,
     "metadata": {},
     "output_type": "execute_result"
    },
    {
     "data": {
      "image/png": "[encoded data removed]",
      "text/plain": [
       "<Figure size 457.625x360 with 1 Axes>"
      ]
     },
     "metadata": {
      "needs_background": "light"
     },
     "output_type": "display_data"
    }
   ],
   "source": [
    "#this codetakes in a sample of the data and creates a scatter plot with hue that showes where houses\n",
    "#in the sample are located and draws a regression line\n",
    "sns.lmplot(x=\"yearbuilt\", y=\"total_taxes_assessed\", hue =\"county\", data=train.sample(1000))\n"
   ]
  },
  {
   "cell_type": "markdown",
   "id": "00285874",
   "metadata": {},
   "source": [
    "## Takeaways\n",
    "### 3. Does the age of the house matter when it comes to the price? \n",
    "#### The houses in Ventura and in Orange county appear to be more expensive the newer they are, unlike in Los angeles\n",
    "#### this warrants a deeper investigetion when time permits"
   ]
  },
  {
   "cell_type": "markdown",
   "id": "a7bac2e4",
   "metadata": {},
   "source": [
    "---"
   ]
  },
  {
   "cell_type": "markdown",
   "id": "f50c376f",
   "metadata": {},
   "source": [
    "### 4. Does the size of the house in sqfeet influence the price?\n"
   ]
  },
  {
   "cell_type": "code",
   "execution_count": 8,
   "id": "90723c71",
   "metadata": {},
   "outputs": [
    {
     "data": {
      "text/plain": [
       "<seaborn.axisgrid.FacetGrid at 0x7fdbb58e8a60>"
      ]
     },
     "execution_count": 8,
     "metadata": {},
     "output_type": "execute_result"
    },
    {
     "data": {
      "image/png": "[encoded data removed]",
      "text/plain": [
       "<Figure size 457.625x360 with 1 Axes>"
      ]
     },
     "metadata": {
      "needs_background": "light"
     },
     "output_type": "display_data"
    }
   ],
   "source": [
    "#here is a comparisson between squarefeet and total_taxes_assessed with the colors indicating what county the houses are in(picked a sample of 1000) \n",
    "\n",
    "sns.lmplot(x=\"squarefeet\", y=\"total_taxes_assessed\", hue =\"county\", data=train.sample(1000))\n"
   ]
  },
  {
   "cell_type": "markdown",
   "id": "6c051caa",
   "metadata": {},
   "source": []
  },
  {
   "cell_type": "markdown",
   "id": "d8de320a",
   "metadata": {},
   "source": [
    "## Takeaways\n",
    "### 4. Does the size of the house matter when it comes to the price? \n",
    "#### it appears that the size of the house has a high positive relationship with the price. this is also evident with the positive relationship between the number of bedrooms and total_taxes_assessed\n",
    "#### ths feature will be used in the modeling process\n",
    "\n"
   ]
  },
  {
   "cell_type": "markdown",
   "id": "625ed187",
   "metadata": {},
   "source": [
    "---"
   ]
  },
  {
   "cell_type": "markdown",
   "id": "545ebc85",
   "metadata": {},
   "source": [
    "## Summary \n",
    "\n",
    "### 1. Does the number of bedrooms and bathrooms in a house increase the cost of the home\n",
    "- It appears that the number of bedrooms have a positive relationship with the cost of the price of house\n",
    "- Additionally according to the charts the higher the number of bathrooms the higher the price\n",
    "\n",
    "### 2. Is the price of the house influenced by the county/ location?\n",
    "- It appears that houses are less expensive in LA and than in Ventura and Orange county respectively\n",
    "- However this does not seem like a strong relationship with the price, therefore this feature will not be  explored in this report. I will revisit after\n",
    "\n",
    "### 3. Does the age of the house matter when it comes to the price? \n",
    "- The houses in Ventura and in Orange county appear to be more expensive the newer they are, unlike in Los angeles\n",
    "\n",
    "### 4. Does the size of the house matter when it comes to the price? \n",
    "- It appears that the size of the house has a high positive relationship with the price. This is also evident with the positive relationship between the number of bedrooms and total_taxes\n",
    "- this feature will be used in the modeling process\n",
    "\n",
    "\n",
    "#### In summary I will explore statistical relationships in bathrooms, bedrooms, the year built and square feet(size)\n"
   ]
  },
  {
   "cell_type": "markdown",
   "id": "f26545d4",
   "metadata": {},
   "source": [
    "---"
   ]
  },
  {
   "cell_type": "markdown",
   "id": "596433bf",
   "metadata": {},
   "source": [
    "## Statistical tests"
   ]
  },
  {
   "cell_type": "code",
   "execution_count": 9,
   "id": "3d829dd5",
   "metadata": {},
   "outputs": [],
   "source": [
    "a = 0.05"
   ]
  },
  {
   "cell_type": "markdown",
   "id": "a8aa5cfb",
   "metadata": {},
   "source": [
    "### Hypothesis Testing\n",
    "- In this section i will be checking the correlation between the variables that visually showed a relationship with the total_tax column\n",
    "- Afterwards, I will proceed to pick 3 of the best variables to model with"
   ]
  },
  {
   "cell_type": "markdown",
   "id": "ef23a99f",
   "metadata": {},
   "source": [
    "#### $ H0 $ : the number of bathrooms have no relationship to the property prices\n",
    "\n",
    "#### $ H1 $ : the higher the number of bathrooms, the higher the price of the house "
   ]
  },
  {
   "cell_type": "code",
   "execution_count": 10,
   "id": "77f4ef31",
   "metadata": {},
   "outputs": [
    {
     "name": "stdout",
     "output_type": "stream",
     "text": [
      "corr = 0.43426\n",
      "p = 0.00000\n",
      "I reject the null hypothesis\n"
     ]
    }
   ],
   "source": [
    "# here I will use Pearsons r to check the correlation between the variables \n",
    "x = train.bathrooms\n",
    "y = train.total_taxes_assessed\n",
    "\n",
    "corr, p = stats.pearsonr(x, y)\n",
    "print(f'corr = {corr:.5f}')\n",
    "print(f'p = {p:.5f}')\n",
    "\n",
    "if p<a:\n",
    "    print(f\"I reject the null hypothesis\")\n",
    "else:\n",
    "    print(f\"I reject the null hypothesis\")\n"
   ]
  },
  {
   "cell_type": "markdown",
   "id": "81eb042a",
   "metadata": {},
   "source": [
    "---"
   ]
  },
  {
   "cell_type": "markdown",
   "id": "fa9d8623",
   "metadata": {},
   "source": [
    "#### $ H0 $ : the number of bedrooms have no relationship to the property prices\n",
    "#### $ H1 $ : the higher the number of bedrooms, the higher the price of the house "
   ]
  },
  {
   "cell_type": "code",
   "execution_count": 11,
   "id": "e7c6abde",
   "metadata": {
    "scrolled": true
   },
   "outputs": [
    {
     "name": "stdout",
     "output_type": "stream",
     "text": [
      "corr = 0.24929\n",
      "p = 0.00000\n",
      "I reject the null hypothesis\n"
     ]
    }
   ],
   "source": [
    "# this code takes in the number of bedrooms and the total taxes \n",
    "#returns correlation and p values to determine the statistical significance\n",
    "x1 = train.bedrooms\n",
    "y1 = train.total_taxes_assessed\n",
    "\n",
    "corr1, p1 = stats.pearsonr(x1, y1)\n",
    "print(f'corr = {corr1:.5f}')\n",
    "print(f'p = {p1:.5f}')\n",
    "\n",
    "if p<a:\n",
    "    print(f\"I reject the null hypothesis\")\n",
    "else:\n",
    "    print(f\"I reject the null hypothesis\")\n"
   ]
  },
  {
   "cell_type": "markdown",
   "id": "27f3fa4c",
   "metadata": {},
   "source": [
    "---"
   ]
  },
  {
   "cell_type": "markdown",
   "id": "133d13e9",
   "metadata": {},
   "source": [
    "#### $H0$: the age of the house has no relationship to the property prices\n",
    "\n",
    "#### $H1$:the newer the property the more expensive it is "
   ]
  },
  {
   "cell_type": "code",
   "execution_count": 12,
   "id": "89eae0a5",
   "metadata": {
    "scrolled": false
   },
   "outputs": [
    {
     "name": "stdout",
     "output_type": "stream",
     "text": [
      "r = 0.26518\n",
      "p = 0.00000\n",
      "I reject the null hypothesis\n"
     ]
    }
   ],
   "source": [
    "# this code takes in the year the property was built and the total taxes \n",
    "#returns r and p values to determine the statistical significance\n",
    "x3= train[\"yearbuilt\"]\n",
    "y3 = train[\"total_taxes_assessed\"]\n",
    "r, p2 = stats.pearsonr(x3, y3)\n",
    "print(f'r = {r:.5f}')\n",
    "print(f'p = {p2:.5f}')\n",
    "# however it is a weak correlation \n",
    "if p<a:\n",
    "    print(f\"I reject the null hypothesis\")\n",
    "else:\n",
    "    print(f\"I reject the null hypothesis\")"
   ]
  },
  {
   "cell_type": "markdown",
   "id": "01bb52d7",
   "metadata": {},
   "source": [
    "---"
   ]
  },
  {
   "cell_type": "markdown",
   "id": "07ebce38",
   "metadata": {},
   "source": [
    "#### $H0$: the size of the house in squarefeet does not have a relationship with the price\n",
    "\n",
    "#### $H1$: the size of the house in squarefeet has a relatively strong correlation with the property prices"
   ]
  },
  {
   "cell_type": "code",
   "execution_count": 13,
   "id": "ca7e9c1d",
   "metadata": {
    "scrolled": true
   },
   "outputs": [
    {
     "name": "stdout",
     "output_type": "stream",
     "text": [
      "r = 0.50148\n",
      "p = 0.00000\n",
      "I reject the null hypothesis\n"
     ]
    }
   ],
   "source": [
    "# this code takes in the squarefeet and the total taxes \n",
    "#returns r and p values to determine the statistical significance\n",
    "\n",
    "x4= train[\"squarefeet\"]\n",
    "y4 = train[\"total_taxes_assessed\"]\n",
    "r1, p3 = stats.pearsonr(x4, y4)\n",
    "print(f'r = {r1:.5f}')\n",
    "print(f'p = {p3:.5f}')\n",
    "\n",
    "if p<a:\n",
    "    print(f\"I reject the null hypothesis\")\n",
    "else:\n",
    "    print(f\"I reject the null hypothesis\")"
   ]
  },
  {
   "cell_type": "markdown",
   "id": "a0f446e0",
   "metadata": {},
   "source": [
    "---"
   ]
  },
  {
   "cell_type": "markdown",
   "id": "264c3b44",
   "metadata": {},
   "source": [
    "### Correlation Matrix"
   ]
  },
  {
   "cell_type": "code",
   "execution_count": 15,
   "id": "c0d59493",
   "metadata": {},
   "outputs": [
    {
     "data": {
      "text/html": [
       "<div>\n",
       "<style scoped>\n",
       "    .dataframe tbody tr th:only-of-type {\n",
       "        vertical-align: middle;\n",
       "    }\n",
       "\n",
       "    .dataframe tbody tr th {\n",
       "        vertical-align: top;\n",
       "    }\n",
       "\n",
       "    .dataframe thead th {\n",
       "        text-align: right;\n",
       "    }\n",
       "</style>\n",
       "<table border=\"1\" class=\"dataframe\">\n",
       "  <thead>\n",
       "    <tr style=\"text-align: right;\">\n",
       "      <th></th>\n",
       "      <th>bedrooms</th>\n",
       "      <th>bathrooms</th>\n",
       "      <th>squarefeet</th>\n",
       "      <th>total_taxes_assessed</th>\n",
       "      <th>yearbuilt</th>\n",
       "    </tr>\n",
       "  </thead>\n",
       "  <tbody>\n",
       "    <tr>\n",
       "      <th>bedrooms</th>\n",
       "      <td>1.000000</td>\n",
       "      <td>0.619454</td>\n",
       "      <td>0.631366</td>\n",
       "      <td>0.249288</td>\n",
       "      <td>0.389015</td>\n",
       "    </tr>\n",
       "    <tr>\n",
       "      <th>bathrooms</th>\n",
       "      <td>0.619454</td>\n",
       "      <td>1.000000</td>\n",
       "      <td>0.808249</td>\n",
       "      <td>0.434259</td>\n",
       "      <td>0.557527</td>\n",
       "    </tr>\n",
       "    <tr>\n",
       "      <th>squarefeet</th>\n",
       "      <td>0.631366</td>\n",
       "      <td>0.808249</td>\n",
       "      <td>1.000000</td>\n",
       "      <td>0.501476</td>\n",
       "      <td>0.489558</td>\n",
       "    </tr>\n",
       "    <tr>\n",
       "      <th>total_taxes_assessed</th>\n",
       "      <td>0.249288</td>\n",
       "      <td>0.434259</td>\n",
       "      <td>0.501476</td>\n",
       "      <td>1.000000</td>\n",
       "      <td>0.265175</td>\n",
       "    </tr>\n",
       "    <tr>\n",
       "      <th>yearbuilt</th>\n",
       "      <td>0.389015</td>\n",
       "      <td>0.557527</td>\n",
       "      <td>0.489558</td>\n",
       "      <td>0.265175</td>\n",
       "      <td>1.000000</td>\n",
       "    </tr>\n",
       "  </tbody>\n",
       "</table>\n",
       "</div>"
      ],
      "text/plain": [
       "                      bedrooms  bathrooms  squarefeet  total_taxes_assessed  \\\n",
       "bedrooms              1.000000   0.619454    0.631366              0.249288   \n",
       "bathrooms             0.619454   1.000000    0.808249              0.434259   \n",
       "squarefeet            0.631366   0.808249    1.000000              0.501476   \n",
       "total_taxes_assessed  0.249288   0.434259    0.501476              1.000000   \n",
       "yearbuilt             0.389015   0.557527    0.489558              0.265175   \n",
       "\n",
       "                      yearbuilt  \n",
       "bedrooms               0.389015  \n",
       "bathrooms              0.557527  \n",
       "squarefeet             0.489558  \n",
       "total_taxes_assessed   0.265175  \n",
       "yearbuilt              1.000000  "
      ]
     },
     "execution_count": 15,
     "metadata": {},
     "output_type": "execute_result"
    }
   ],
   "source": [
    "#this code illustrates the correlation matrix where correlations are observed among different variables \n",
    "cor = train.corr()\n",
    "cor"
   ]
  },
  {
   "cell_type": "code",
   "execution_count": 16,
   "id": "4cf80623",
   "metadata": {},
   "outputs": [
    {
     "data": {
      "text/plain": [
       "<AxesSubplot:>"
      ]
     },
     "execution_count": 16,
     "metadata": {},
     "output_type": "execute_result"
    },
    {
     "data": {
      "image/png": "[encoded data removed]",
      "text/plain": [
       "<Figure size 720x576 with 2 Axes>"
      ]
     },
     "metadata": {
      "needs_background": "light"
     },
     "output_type": "display_data"
    }
   ],
   "source": [
    "#here is a plot of the correlation coefficients \n",
    "plt.figure(figsize=(10,8))\n",
    "sns.heatmap(cor,annot = True,cmap = 'mako',center = 0,vmin = -1, vmax = 1)"
   ]
  },
  {
   "cell_type": "markdown",
   "id": "5dd93345",
   "metadata": {},
   "source": [
    "### Summary\n",
    "- all of the variables had a positive correlation with the target variable\n",
    "- however I will proceed to model with the three highest correlated variables\n",
    "- these are:\n",
    "    - bedrooms\n",
    "    - bathrooms \n",
    "    - squarefeet\n",
    "    "
   ]
  },
  {
   "cell_type": "markdown",
   "id": "6e5c35ac",
   "metadata": {},
   "source": [
    "---"
   ]
  },
  {
   "cell_type": "markdown",
   "id": "1d337e49",
   "metadata": {},
   "source": [
    "# Scaling"
   ]
  },
  {
   "cell_type": "code",
   "execution_count": 17,
   "id": "1a47a157",
   "metadata": {
    "scrolled": true
   },
   "outputs": [
    {
     "data": {
      "text/html": [
       "<div>\n",
       "<style scoped>\n",
       "    .dataframe tbody tr th:only-of-type {\n",
       "        vertical-align: middle;\n",
       "    }\n",
       "\n",
       "    .dataframe tbody tr th {\n",
       "        vertical-align: top;\n",
       "    }\n",
       "\n",
       "    .dataframe thead th {\n",
       "        text-align: right;\n",
       "    }\n",
       "</style>\n",
       "<table border=\"1\" class=\"dataframe\">\n",
       "  <thead>\n",
       "    <tr style=\"text-align: right;\">\n",
       "      <th></th>\n",
       "      <th>bedrooms</th>\n",
       "      <th>bathrooms</th>\n",
       "      <th>squarefeet</th>\n",
       "      <th>total_taxes_assessed</th>\n",
       "      <th>yearbuilt</th>\n",
       "      <th>county</th>\n",
       "    </tr>\n",
       "  </thead>\n",
       "  <tbody>\n",
       "    <tr>\n",
       "      <th>15738</th>\n",
       "      <td>0.500000</td>\n",
       "      <td>0.333333</td>\n",
       "      <td>0.293216</td>\n",
       "      <td>67857.0</td>\n",
       "      <td>1954.0</td>\n",
       "      <td>Orange</td>\n",
       "    </tr>\n",
       "    <tr>\n",
       "      <th>32066</th>\n",
       "      <td>0.500000</td>\n",
       "      <td>0.166667</td>\n",
       "      <td>0.160124</td>\n",
       "      <td>295125.0</td>\n",
       "      <td>1953.0</td>\n",
       "      <td>Los_Angeles</td>\n",
       "    </tr>\n",
       "    <tr>\n",
       "      <th>23254</th>\n",
       "      <td>0.666667</td>\n",
       "      <td>0.500000</td>\n",
       "      <td>0.540978</td>\n",
       "      <td>717274.0</td>\n",
       "      <td>2000.0</td>\n",
       "      <td>Orange</td>\n",
       "    </tr>\n",
       "    <tr>\n",
       "      <th>22616</th>\n",
       "      <td>0.500000</td>\n",
       "      <td>0.250000</td>\n",
       "      <td>0.219353</td>\n",
       "      <td>318217.0</td>\n",
       "      <td>1968.0</td>\n",
       "      <td>Orange</td>\n",
       "    </tr>\n",
       "    <tr>\n",
       "      <th>50357</th>\n",
       "      <td>0.666667</td>\n",
       "      <td>0.500000</td>\n",
       "      <td>0.423554</td>\n",
       "      <td>396546.0</td>\n",
       "      <td>1966.0</td>\n",
       "      <td>Los_Angeles</td>\n",
       "    </tr>\n",
       "  </tbody>\n",
       "</table>\n",
       "</div>"
      ],
      "text/plain": [
       "       bedrooms  bathrooms  squarefeet  total_taxes_assessed  yearbuilt  \\\n",
       "15738  0.500000   0.333333    0.293216               67857.0     1954.0   \n",
       "32066  0.500000   0.166667    0.160124              295125.0     1953.0   \n",
       "23254  0.666667   0.500000    0.540978              717274.0     2000.0   \n",
       "22616  0.500000   0.250000    0.219353              318217.0     1968.0   \n",
       "50357  0.666667   0.500000    0.423554              396546.0     1966.0   \n",
       "\n",
       "            county  \n",
       "15738       Orange  \n",
       "32066  Los_Angeles  \n",
       "23254       Orange  \n",
       "22616       Orange  \n",
       "50357  Los_Angeles  "
      ]
     },
     "execution_count": 17,
     "metadata": {},
     "output_type": "execute_result"
    }
   ],
   "source": [
    "# This function takes in a data set that is split , makes a copy and uses the min max scaler \n",
    "# to scale all three data sets. additionally it adds the columns names on the scaled data and \n",
    "# returns trainedscaled data, validate scaled data and test scale\n",
    "\n",
    "columns_to_scale = [\"bedrooms\",\"bathrooms\",\"squarefeet\"]\n",
    "train_scaled, validate_scaled,test_scaled =prepare.scaling_zillow(train, validate, test, columns_to_scale)\n",
    "train_scaled.head()"
   ]
  },
  {
   "cell_type": "markdown",
   "id": "508ab157",
   "metadata": {},
   "source": [
    "---"
   ]
  },
  {
   "cell_type": "markdown",
   "id": "c989b29b",
   "metadata": {},
   "source": [
    "## BASELINE\n"
   ]
  },
  {
   "cell_type": "code",
   "execution_count": 20,
   "id": "02da9aa7",
   "metadata": {
    "scrolled": false
   },
   "outputs": [
    {
     "name": "stdout",
     "output_type": "stream",
     "text": [
      "RMSE using Mean\n",
      "Train/In-Sample:  264487.8 \n",
      "Validate/Out-of-Sample:  264650.06\n",
      "RMSE using Median\n",
      "Train/In-Sample:  268181.81 \n",
      "Validate/Out-of-Sample:  268086.55\n"
     ]
    }
   ],
   "source": [
    "# We need y_train and y_validate to be dataframes to append the new columns with predicted values. \n",
    "# y_train = pd.DataFrame(y_train)\n",
    "# y_validate = pd.DataFrame(y_validate)\n",
    "\n",
    "X_train, y_train = train_scaled, train_scaled[\"total_taxes_assessed\"]\n",
    "X_validate, y_validate = validate_scaled, validate_scaled.total_taxes_assessed\n",
    "X_test, y_test = test_scaled, test_scaled.total_taxes_assessed\n",
    "y_train = pd.DataFrame(train.total_taxes_assessed)\n",
    "y_validate = pd.DataFrame(validate.total_taxes_assessed)\n",
    "y_test = pd.DataFrame(test.total_taxes_assessed)\n",
    "\n",
    "\n",
    "# 1. Predict housing pices \n",
    "y_train_mean = y_train['total_taxes_assessed'].mean()\n",
    "y_train['y_train_mean'] = y_train_mean\n",
    "y_validate['y_train_mean'] = y_train_mean\n",
    "\n",
    "# 2. compute prices prediction\n",
    "y_train_median = y_train['total_taxes_assessed'].median()\n",
    "y_train['y_train_median'] = y_train_median\n",
    "y_validate['y_train_median'] = y_train_median\n",
    "\n",
    "# 3. RMSE for mean\n",
    "rmse_train = mean_squared_error(y_train.total_taxes_assessed, y_train.y_train_mean)**(1/2)\n",
    "rmse_validate = mean_squared_error(y_validate.total_taxes_assessed, y_validate.y_train_mean)**(1/2)\n",
    "\n",
    "print(\"RMSE using Mean\\nTrain/In-Sample: \", round(rmse_train, 2), \n",
    "            \"\\nValidate/Out-of-Sample: \", round(rmse_validate, 2))\n",
    "\n",
    "# 4. RMSE for median\n",
    "rmse_train = mean_squared_error(y_train.total_taxes_assessed, y_train.y_train_median)**(1/2)\n",
    "rmse_validate = mean_squared_error(y_validate.total_taxes_assessed, y_validate.y_train_median)**(1/2)\n",
    "\n",
    "print(\"RMSE using Median\\nTrain/In-Sample: \", round(rmse_train, 2), \n",
    "                  \"\\nValidate/Out-of-Sample: \", round(rmse_validate, 2))"
   ]
  },
  {
   "cell_type": "markdown",
   "id": "4ebdf467",
   "metadata": {},
   "source": [
    "---"
   ]
  },
  {
   "cell_type": "markdown",
   "id": "ca014448",
   "metadata": {},
   "source": [
    "### Bellow are 3 of my best models\n",
    "- the Tweedie model was the least impressive but still approximately 30000 better than the baseline\n",
    "- the Lasso lars and the linear regression models did much better at 40000 better than the baseline (15%)\n",
    "- surprissingly both linear regression and lasso lars were almost identical..."
   ]
  },
  {
   "cell_type": "markdown",
   "id": "68a01b99",
   "metadata": {},
   "source": [
    "## TweedieRegressor Model"
   ]
  },
  {
   "cell_type": "code",
   "execution_count": 21,
   "id": "0266808b",
   "metadata": {
    "scrolled": false
   },
   "outputs": [
    {
     "name": "stdout",
     "output_type": "stream",
     "text": [
      "RMSE for GLM using Tweedie, power=1 & alpha=0\n",
      "Training/In-Sample:  230302.39722767126 \n",
      "Validation/Out-of-Sample:  227477.66019504415\n"
     ]
    }
   ],
   "source": [
    "# create the model object\n",
    "glm = TweedieRegressor(power=1, alpha=0)\n",
    "X_train_tr = X_train[[\"bedrooms\",\"bathrooms\",\"squarefeet\"]]\n",
    "X_validate_tr = X_validate[[\"bedrooms\",\"bathrooms\",\"squarefeet\"]]\n",
    "\n",
    "# fit the model to our training data. We must specify the column in y_train, \n",
    "# since we have converted it to a dataframe from a series! \n",
    "glm.fit(X_train_tr, y_train.total_taxes_assessed)\n",
    "\n",
    "# predict train\n",
    "y_train['total_taxes_pred'] = glm.predict(X_train_tr)\n",
    "\n",
    "# evaluate: rmse\n",
    "rmse_train_tr = mean_squared_error(y_train.total_taxes_assessed, y_train.total_taxes_pred)**(1/2)\n",
    "\n",
    "# predict validate\n",
    "y_validate['total_taxes_pred'] = glm.predict(X_validate_tr)\n",
    "\n",
    "# evaluate: rmse\n",
    "rmse_validate_tr = mean_squared_error(y_validate.total_taxes_assessed, y_validate.total_taxes_pred)**(1/2)\n",
    "\n",
    "print(\"RMSE for GLM using Tweedie, power=1 & alpha=0\\nTraining/In-Sample: \", rmse_train_tr, \n",
    "      \"\\nValidation/Out-of-Sample: \", rmse_validate_tr)\n"
   ]
  },
  {
   "cell_type": "markdown",
   "id": "591f8953",
   "metadata": {},
   "source": [
    "---"
   ]
  },
  {
   "cell_type": "markdown",
   "id": "f8657ce0",
   "metadata": {},
   "source": [
    "## Lasso Lars Model"
   ]
  },
  {
   "cell_type": "code",
   "execution_count": 22,
   "id": "32285d37",
   "metadata": {},
   "outputs": [
    {
     "name": "stdout",
     "output_type": "stream",
     "text": [
      "RMSE for Lasso + Lars\n",
      "Training/In-Sample:  230302.39722767126 \n",
      "Validation/Out-of-Sample:  227477.66019504415\n"
     ]
    }
   ],
   "source": [
    "# create the model object\n",
    "lars = LassoLars(alpha=1.0)\n",
    "X_train_lars= X_train[[\"bedrooms\",\"bathrooms\",\"squarefeet\"]]\n",
    "X_validate_lars = X_validate[[\"bedrooms\",\"bathrooms\",\"squarefeet\"]]\n",
    "# fit the model to our training data. We must specify the column in y_train, \n",
    "# since we have converted it to a dataframe from a series! \n",
    "lars.fit(X_train_lars, y_train.total_taxes_assessed)\n",
    "\n",
    "# predict train\n",
    "y_train['total_taxes_pred1'] = lars.predict(X_train_lars)\n",
    "\n",
    "# evaluate: rmse\n",
    "rmse_train_lars = mean_squared_error(y_train.total_taxes_assessed, y_train.total_taxes_pred)**(1/2)\n",
    "\n",
    "# predict validate\n",
    "y_validate['total_taxes_pred1'] = lars.predict(X_validate_lars)\n",
    "\n",
    "# evaluate: rmse\n",
    "rmse_validate_lars = mean_squared_error(y_validate.total_taxes_assessed, y_validate.total_taxes_pred)**(1/2)\n",
    "\n",
    "print(\"RMSE for Lasso + Lars\\nTraining/In-Sample: \", rmse_train_lars, \n",
    "      \"\\nValidation/Out-of-Sample: \", rmse_validate_lars)"
   ]
  },
  {
   "cell_type": "markdown",
   "id": "7858a788",
   "metadata": {},
   "source": [
    "---"
   ]
  },
  {
   "cell_type": "markdown",
   "id": "5a540789",
   "metadata": {},
   "source": [
    "## MODELING (features: bedrooms, bathrooms, squarefeet)\n",
    "#### Best model is a linear regression with 3 features"
   ]
  },
  {
   "cell_type": "code",
   "execution_count": 26,
   "id": "e0d6d343",
   "metadata": {
    "scrolled": false
   },
   "outputs": [
    {
     "name": "stdout",
     "output_type": "stream",
     "text": [
      "RMSE for OLS using LinearRegression\n",
      "Training/In-Sample:  226874.71769377927 \n",
      "Validation/Out-of-Sample:  224745.86491873223 RMSE for OLS using LinearRegression\n",
      "test/In-Sample:  224826.8407443043\n"
     ]
    }
   ],
   "source": [
    "# create the model object\n",
    "lm = LinearRegression(normalize=True)\n",
    "X_train = X_train[[\"bedrooms\",\"bathrooms\",\"squarefeet\"]]\n",
    "X_validate = X_validate[[\"bedrooms\",\"bathrooms\",\"squarefeet\"]]\n",
    "X_test = X_test[[\"bedrooms\",\"bathrooms\",\"squarefeet\"]]\n",
    "# fit the model to our training data. We must specify the column in y_train, \n",
    "# since we have converted it to a dataframe from a series! \n",
    "lm.fit(X_train, y_train.total_taxes_assessed)\n",
    "\n",
    "# predict train\n",
    "y_train['total_taxes_pred2'] = lm.predict(X_train)\n",
    "\n",
    "# evaluate: rmse\n",
    "rmse_train_lr = mean_squared_error(y_train.total_taxes_assessed, y_train.total_taxes_pred)**(1/2)\n",
    "\n",
    "# predict validate\n",
    "y_validate['total_taxes_pred2'] = lm.predict(X_validate)\n",
    "\n",
    "# evaluate: rmse\n",
    "rmse_validate_lr = mean_squared_error(y_validate.total_taxes_assessed, y_validate.total_taxes_pred)**(1/2)\n",
    "\n",
    "# testing on the best model\n",
    "y_test['total_taxes_pred2'] = lm.predict(X_test)\n",
    "\n",
    "# evaluate: rmse\n",
    "rmse_test_lr = mean_squared_error(y_test.total_taxes_assessed, y_test.total_taxes_pred)**(1/2)\n",
    "\n",
    "print(\"RMSE for OLS using LinearRegression\\nTraining/In-Sample: \", rmse_train_lr, \n",
    "      \"\\nValidation/Out-of-Sample: \", rmse_validate_lr, \"RMSE for OLS using LinearRegression\\ntest/In-Sample: \",rmse_test_lr)"
   ]
  },
  {
   "cell_type": "code",
   "execution_count": 28,
   "id": "9d9a6b71",
   "metadata": {},
   "outputs": [
    {
     "data": {
      "image/png": "[encoded data removed]",
      "text/plain": [
       "<Figure size 1152x576 with 1 Axes>"
      ]
     },
     "metadata": {
      "needs_background": "light"
     },
     "output_type": "display_data"
    }
   ],
   "source": [
    "# plot to visualize actual vs predicted. \n",
    "plt.figure(figsize=(16,8))\n",
    "plt.hist(y_validate.total_taxes_assessed, color='blue', alpha=.5, label=\"Actual values currently\")\n",
    "plt.hist(y_validate['total_taxes_pred2'], color='red', alpha=.5, label=\"Model: LinearRegression\")\n",
    "plt.hist(y_validate['total_taxes_pred'], color='yellow', alpha=.5, label=\"Model: TweedieRegressor\")\n",
    "plt.hist(y_validate['total_taxes_pred1'], color='green', alpha=.5, label=\"Lasso Lars\")\n",
    "plt.xlabel(\"features\")\n",
    "plt.ylabel(\"total_tax_assessed\")\n",
    "plt.title(\"comparrison between baseline and models\") \n",
    "plt.legend(\"\")\n",
    "plt.show()"
   ]
  },
  {
   "cell_type": "markdown",
   "id": "bdecb4cc",
   "metadata": {},
   "source": [
    "---"
   ]
  },
  {
   "cell_type": "markdown",
   "id": "824e8c67",
   "metadata": {},
   "source": [
    "### Takeaways\n",
    "- the linear regression shows the most promise with these three features.\n",
    "- however there are concerns that these features are very similar or the bedrooms and the bathrooms are contained in the sqfeet calculations\n",
    "- so far this Linear regression is the best model\n",
    "- surprisingly, the Lasso Lars model results are almost identical to the linear regression model\n",
    "\n",
    "### Baseline\n",
    "\n",
    "RMSE using Mean\n",
    "\n",
    "Train/In-Sample:  264487.8\n",
    "\n",
    "Validate/Out-of-Sample:  264650.06\n",
    "\n",
    "RMSE using Median\n",
    "\n",
    "Train/In-Sample:  268181.81\n",
    "\n",
    "Validate/Out-of-Sample:  268086.55\n",
    "\n",
    "### Linear regression\n",
    "\n",
    "RMSE for OLS using LinearRegression\n",
    "\n",
    "Training/In-Sample:  226874.71769377927 \n",
    "\n",
    "Validation/Out-of-Sample:  224745.86491873223\n",
    "\n",
    "\n",
    "\n"
   ]
  },
  {
   "cell_type": "code",
   "execution_count": 25,
   "id": "5f4d198f",
   "metadata": {
    "scrolled": true
   },
   "outputs": [
    {
     "name": "stdout",
     "output_type": "stream",
     "text": [
      "Difference with Baseline Train = 41307.093396426935\n",
      "Difference with Baseline Validate = 43340.68908537863\n",
      "Difference with Baseline vs Test = 43354.97034590191\n"
     ]
    }
   ],
   "source": [
    "RMSE_baseline_train = rmse_train \n",
    "RMSE_baseline_validate = rmse_validate\n",
    "RMSE_train_lr = rmse_train_lr\n",
    "RMSE_validate_lr = rmse_validate_lr\n",
    "RMSE_test_lr = rmse_test_lr\n",
    "Test_difference  = RMSE_baseline_train - RMSE_test_lr\n",
    "print (f\"Difference with Baseline Train = {RMSE_baseline_train-RMSE_train_lr}\")\n",
    "print(f\"Difference with Baseline Validate = {RMSE_baseline_validate-RMSE_validate_lr}\")\n",
    "print(f\"Difference with Baseline vs Test = {RMSE_baseline_train-RMSE_test_lr}\")\n"
   ]
  },
  {
   "cell_type": "markdown",
   "id": "f6cea50a",
   "metadata": {},
   "source": [
    "---"
   ]
  },
  {
   "cell_type": "markdown",
   "id": "0cff98ab",
   "metadata": {},
   "source": [
    "### Conclusion\n",
    "\n",
    "- #### In conclusion, despite the model being 220k from the regression line, the model was able to beat the baseline by atleast 40k.\n",
    "\n",
    "- #### I found that squarefeet is one of the most important features to predict prices\n",
    "\n",
    "- #### In order to make a better model, we should work on feature engineering maybe combining the squrefeet , bedrooms and bathrooms  \n",
    "\n",
    "- #### In the future, we can include some feature engineering where we would combine sqfeet, bedrooms and bathrooms to make one feature.\n",
    "\n",
    "- #### Additionally, with more time we can run other regression models to make the process more accurate\n",
    "\n",
    "- #### There are more data values needed to further assess home values\n",
    "\n",
    "            - interest rates in the market\n",
    "            - housing demand from previous years (to determine the the trajectory of the trend)\n",
    "            - zoning data and school zoning data should also be included in the data if possible(reduce nulls)"
   ]
  },
  {
   "cell_type": "code",
   "execution_count": null,
   "id": "cd4c956f",
   "metadata": {},
   "outputs": [],
   "source": []
  }
 ],
 "metadata": {
  "kernelspec": {
   "display_name": "Python 3 (ipykernel)",
   "language": "python",
   "name": "python3"
  },
  "language_info": {
   "codemirror_mode": {
    "name": "ipython",
    "version": 3
   },
   "file_extension": ".py",
   "mimetype": "text/x-python",
   "name": "python",
   "nbconvert_exporter": "python",
   "pygments_lexer": "ipython3",
   "version": "3.9.7"
  }
 },
 "nbformat": 4,
 "nbformat_minor": 5
}
